{
 "cells": [
  {
   "cell_type": "code",
   "execution_count": 2,
   "metadata": {},
   "outputs": [
    {
     "data": {
      "text/plain": [
       "[0, 3, 5, 5, 1, 4, 7, 1, 3, 0, 5, 7, 2, 1, 4, 2]"
      ]
     },
     "execution_count": 2,
     "metadata": {},
     "output_type": "execute_result"
    }
   ],
   "source": [
    "instructions = [2,4,1,2,7,5,0,3,1,7,4,1,5,5,3,0]\n",
    "instructions.reverse()\n",
    "instructions"
   ]
  },
  {
   "cell_type": "code",
   "execution_count": 46,
   "metadata": {},
   "outputs": [
    {
     "data": {
      "text/plain": [
       "[0, 0, 0, 0, 0, 0, 0, 0, 0, 0, 0, 0, 0, 0, 0, 0]"
      ]
     },
     "execution_count": 46,
     "metadata": {},
     "output_type": "execute_result"
    }
   ],
   "source": [
    "[0]*len(instructions)"
   ]
  },
  {
   "cell_type": "code",
   "execution_count": 32,
   "metadata": {},
   "outputs": [
    {
     "name": "stdout",
     "output_type": "stream",
     "text": [
      "0 11345984\n"
     ]
    },
    {
     "data": {
      "text/plain": [
       "2836501"
      ]
     },
     "execution_count": 32,
     "metadata": {},
     "output_type": "execute_result"
    }
   ],
   "source": [
    "a = 11345984\n",
    "A = 11345984%8\n",
    "print(A, a)\n",
    "A^5^((a)>>(A^2))\n",
    "\n"
   ]
  },
  {
   "cell_type": "code",
   "execution_count": 33,
   "metadata": {},
   "outputs": [
    {
     "data": {
      "text/plain": [
       "5"
      ]
     },
     "execution_count": 33,
     "metadata": {},
     "output_type": "execute_result"
    }
   ],
   "source": [
    "2836501%8"
   ]
  },
  {
   "cell_type": "code",
   "execution_count": 22,
   "metadata": {},
   "outputs": [
    {
     "data": {
      "text/plain": [
       "3"
      ]
     },
     "execution_count": 22,
     "metadata": {},
     "output_type": "execute_result"
    }
   ],
   "source": [
    "6^5"
   ]
  },
  {
   "cell_type": "code",
   "execution_count": 57,
   "metadata": {},
   "outputs": [
    {
     "name": "stdout",
     "output_type": "stream",
     "text": [
      "0 5 [5]\n",
      "3 43 [3, 7]\n",
      "5 346 [2]\n",
      "5 2773 [2, 5]\n",
      "1 22190 [1, 6]\n",
      "4 177524 [4, 6]\n",
      "7 1420196 [3, 4, 5, 7]\n",
      "1 11361574 [6]\n",
      "3 90892599 [7]\n",
      "0 727140798 [6]\n",
      "5 5817126386 [2, 7]\n",
      "7 46537011091 [3, 4, 5]\n",
      "2 372296088734 [6]\n",
      "1 2978368709872 [0, 5]\n",
      "4 23826949678977 [1]\n",
      "2 190615597431823 [7]\n"
     ]
    },
    {
     "data": {
      "text/plain": [
       "190615597431823"
      ]
     },
     "execution_count": 57,
     "metadata": {},
     "output_type": "execute_result"
    }
   ],
   "source": [
    "ans = 0\n",
    "choice = [0, 0, 0, 1, 1, 0, 1, 0, 0, 0, 0, 0, 0, 0, 0, 0]\n",
    "\n",
    "for i,ins in enumerate(instructions):\n",
    "    ans = ans << 3\n",
    "    possibilites = []\n",
    "    for a in range(8):\n",
    "        if (a^5^((ans + a)>>(a^2))) % 8 == ins:\n",
    "            # ans += a\n",
    "            possibilites.append(a)\n",
    "    # print(possibilites)\n",
    "    ans += 0 if len(possibilites) == 0 else possibilites[choice[i]]\n",
    "    print(ins, ans, possibilites)\n",
    "\n",
    "\n",
    "\n",
    "ans"
   ]
  }
 ],
 "metadata": {
  "kernelspec": {
   "display_name": "Python 3",
   "language": "python",
   "name": "python3"
  },
  "language_info": {
   "codemirror_mode": {
    "name": "ipython",
    "version": 3
   },
   "file_extension": ".py",
   "mimetype": "text/x-python",
   "name": "python",
   "nbconvert_exporter": "python",
   "pygments_lexer": "ipython3",
   "version": "3.10.12"
  }
 },
 "nbformat": 4,
 "nbformat_minor": 2
}
